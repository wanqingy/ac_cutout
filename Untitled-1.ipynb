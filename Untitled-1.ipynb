{
 "cells": [
  {
   "cell_type": "code",
   "execution_count": 1,
   "metadata": {},
   "outputs": [],
   "source": [
    "import zarr\n",
    "import numpy as np\n",
    "import tifffile"
   ]
  },
  {
   "cell_type": "code",
   "execution_count": 3,
   "metadata": {},
   "outputs": [],
   "source": [
    "def combine_with_translation_and_output_tiff(image1_path, image2_path, translation, mip_level, output_tiff_path):\n",
    "    # Load the Zarr arrays representing the images\n",
    "    image1 = zarr.open(image1_path, 'r')\n",
    "    image2 = zarr.open(image2_path, 'r')\n",
    "\n",
    "    # Apply translation to one of the images\n",
    "    translated_image = np.roll(image2, translation, axis=(0, 1))\n",
    "\n",
    "    # Downsample images to the desired MIP level\n",
    "    image1_downsampled = image1[::2**mip_level, ::2**mip_level]\n",
    "    translated_image_downsampled = translated_image[::2**mip_level, ::2**mip_level]\n",
    "\n",
    "    # Determine the shape of the combined array\n",
    "    combined_shape = (\n",
    "        max(image1_downsampled.shape[0], translated_image_downsampled.shape[0]),\n",
    "        max(image1_downsampled.shape[1], translated_image_downsampled.shape[1])\n",
    "    )\n",
    "\n",
    "    # Create a new array for the combined image\n",
    "    combined_image = np.zeros(combined_shape, dtype=image1_downsampled.dtype)\n",
    "\n",
    "    # Copy pixels from the original image\n",
    "    combined_image[:image1_downsampled.shape[0], :image1_downsampled.shape[1]] = image1_downsampled[:]\n",
    "\n",
    "    # Copy pixels from the translated image\n",
    "    combined_image[:translated_image_downsampled.shape[0], :translated_image_downsampled.shape[1]] += translated_image_downsampled[:]\n",
    "\n",
    "    # Save the combined image as a TIFF file\n",
    "    tifffile.imwrite(output_tiff_path, combined_image)\n",
    "\n"
   ]
  },
  {
   "cell_type": "code",
   "execution_count": 5,
   "metadata": {},
   "outputs": [
    {
     "ename": "AxisError",
     "evalue": "axis 1 is out of bounds for array of dimension 1",
     "output_type": "error",
     "traceback": [
      "\u001b[0;31m---------------------------------------------------------------------------\u001b[0m",
      "\u001b[0;31mAxisError\u001b[0m                                 Traceback (most recent call last)",
      "Cell \u001b[0;32mIn[5], line 7\u001b[0m\n\u001b[1;32m      5\u001b[0m mip_level \u001b[38;5;241m=\u001b[39m \u001b[38;5;241m3\u001b[39m  \u001b[38;5;66;03m# Example MIP level\u001b[39;00m\n\u001b[1;32m      6\u001b[0m output_tiff_path \u001b[38;5;241m=\u001b[39m \u001b[38;5;124m'\u001b[39m\u001b[38;5;124mcombined_image_mip3.tiff\u001b[39m\u001b[38;5;124m'\u001b[39m\n\u001b[0;32m----> 7\u001b[0m \u001b[43mcombine_with_translation_and_output_tiff\u001b[49m\u001b[43m(\u001b[49m\u001b[43mimage1_path\u001b[49m\u001b[43m,\u001b[49m\u001b[43m \u001b[49m\u001b[43mimage2_path\u001b[49m\u001b[43m,\u001b[49m\u001b[43m \u001b[49m\u001b[43mtranslation\u001b[49m\u001b[43m,\u001b[49m\u001b[43m \u001b[49m\u001b[43mmip_level\u001b[49m\u001b[43m,\u001b[49m\u001b[43m \u001b[49m\u001b[43moutput_tiff_path\u001b[49m\u001b[43m)\u001b[49m\n",
      "Cell \u001b[0;32mIn[3], line 7\u001b[0m, in \u001b[0;36mcombine_with_translation_and_output_tiff\u001b[0;34m(image1_path, image2_path, translation, mip_level, output_tiff_path)\u001b[0m\n\u001b[1;32m      4\u001b[0m image2 \u001b[38;5;241m=\u001b[39m zarr\u001b[38;5;241m.\u001b[39mopen(image2_path, \u001b[38;5;124m'\u001b[39m\u001b[38;5;124mr\u001b[39m\u001b[38;5;124m'\u001b[39m)\n\u001b[1;32m      6\u001b[0m \u001b[38;5;66;03m# Apply translation to one of the images\u001b[39;00m\n\u001b[0;32m----> 7\u001b[0m translated_image \u001b[38;5;241m=\u001b[39m \u001b[43mnp\u001b[49m\u001b[38;5;241;43m.\u001b[39;49m\u001b[43mroll\u001b[49m\u001b[43m(\u001b[49m\u001b[43mimage2\u001b[49m\u001b[43m,\u001b[49m\u001b[43m \u001b[49m\u001b[43mtranslation\u001b[49m\u001b[43m,\u001b[49m\u001b[43m \u001b[49m\u001b[43maxis\u001b[49m\u001b[38;5;241;43m=\u001b[39;49m\u001b[43m(\u001b[49m\u001b[38;5;241;43m0\u001b[39;49m\u001b[43m,\u001b[49m\u001b[43m \u001b[49m\u001b[38;5;241;43m1\u001b[39;49m\u001b[43m)\u001b[49m\u001b[43m)\u001b[49m\n\u001b[1;32m      9\u001b[0m \u001b[38;5;66;03m# Downsample images to the desired MIP level\u001b[39;00m\n\u001b[1;32m     10\u001b[0m image1_downsampled \u001b[38;5;241m=\u001b[39m image1[::\u001b[38;5;241m2\u001b[39m\u001b[38;5;241m*\u001b[39m\u001b[38;5;241m*\u001b[39mmip_level, ::\u001b[38;5;241m2\u001b[39m\u001b[38;5;241m*\u001b[39m\u001b[38;5;241m*\u001b[39mmip_level]\n",
      "File \u001b[0;32m~/anaconda3/envs/AC/lib/python3.10/site-packages/numpy/core/numeric.py:1211\u001b[0m, in \u001b[0;36mroll\u001b[0;34m(a, shift, axis)\u001b[0m\n\u001b[1;32m   1208\u001b[0m     \u001b[38;5;28;01mreturn\u001b[39;00m roll(a\u001b[38;5;241m.\u001b[39mravel(), shift, \u001b[38;5;241m0\u001b[39m)\u001b[38;5;241m.\u001b[39mreshape(a\u001b[38;5;241m.\u001b[39mshape)\n\u001b[1;32m   1210\u001b[0m \u001b[38;5;28;01melse\u001b[39;00m:\n\u001b[0;32m-> 1211\u001b[0m     axis \u001b[38;5;241m=\u001b[39m \u001b[43mnormalize_axis_tuple\u001b[49m\u001b[43m(\u001b[49m\u001b[43maxis\u001b[49m\u001b[43m,\u001b[49m\u001b[43m \u001b[49m\u001b[43ma\u001b[49m\u001b[38;5;241;43m.\u001b[39;49m\u001b[43mndim\u001b[49m\u001b[43m,\u001b[49m\u001b[43m \u001b[49m\u001b[43mallow_duplicate\u001b[49m\u001b[38;5;241;43m=\u001b[39;49m\u001b[38;5;28;43;01mTrue\u001b[39;49;00m\u001b[43m)\u001b[49m\n\u001b[1;32m   1212\u001b[0m     broadcasted \u001b[38;5;241m=\u001b[39m broadcast(shift, axis)\n\u001b[1;32m   1213\u001b[0m     \u001b[38;5;28;01mif\u001b[39;00m broadcasted\u001b[38;5;241m.\u001b[39mndim \u001b[38;5;241m>\u001b[39m \u001b[38;5;241m1\u001b[39m:\n",
      "File \u001b[0;32m~/anaconda3/envs/AC/lib/python3.10/site-packages/numpy/core/numeric.py:1380\u001b[0m, in \u001b[0;36mnormalize_axis_tuple\u001b[0;34m(axis, ndim, argname, allow_duplicate)\u001b[0m\n\u001b[1;32m   1378\u001b[0m         \u001b[38;5;28;01mpass\u001b[39;00m\n\u001b[1;32m   1379\u001b[0m \u001b[38;5;66;03m# Going via an iterator directly is slower than via list comprehension.\u001b[39;00m\n\u001b[0;32m-> 1380\u001b[0m axis \u001b[38;5;241m=\u001b[39m \u001b[38;5;28mtuple\u001b[39m([normalize_axis_index(ax, ndim, argname) \u001b[38;5;28;01mfor\u001b[39;00m ax \u001b[38;5;129;01min\u001b[39;00m axis])\n\u001b[1;32m   1381\u001b[0m \u001b[38;5;28;01mif\u001b[39;00m \u001b[38;5;129;01mnot\u001b[39;00m allow_duplicate \u001b[38;5;129;01mand\u001b[39;00m \u001b[38;5;28mlen\u001b[39m(\u001b[38;5;28mset\u001b[39m(axis)) \u001b[38;5;241m!=\u001b[39m \u001b[38;5;28mlen\u001b[39m(axis):\n\u001b[1;32m   1382\u001b[0m     \u001b[38;5;28;01mif\u001b[39;00m argname:\n",
      "File \u001b[0;32m~/anaconda3/envs/AC/lib/python3.10/site-packages/numpy/core/numeric.py:1380\u001b[0m, in \u001b[0;36m<listcomp>\u001b[0;34m(.0)\u001b[0m\n\u001b[1;32m   1378\u001b[0m         \u001b[38;5;28;01mpass\u001b[39;00m\n\u001b[1;32m   1379\u001b[0m \u001b[38;5;66;03m# Going via an iterator directly is slower than via list comprehension.\u001b[39;00m\n\u001b[0;32m-> 1380\u001b[0m axis \u001b[38;5;241m=\u001b[39m \u001b[38;5;28mtuple\u001b[39m([\u001b[43mnormalize_axis_index\u001b[49m\u001b[43m(\u001b[49m\u001b[43max\u001b[49m\u001b[43m,\u001b[49m\u001b[43m \u001b[49m\u001b[43mndim\u001b[49m\u001b[43m,\u001b[49m\u001b[43m \u001b[49m\u001b[43margname\u001b[49m\u001b[43m)\u001b[49m \u001b[38;5;28;01mfor\u001b[39;00m ax \u001b[38;5;129;01min\u001b[39;00m axis])\n\u001b[1;32m   1381\u001b[0m \u001b[38;5;28;01mif\u001b[39;00m \u001b[38;5;129;01mnot\u001b[39;00m allow_duplicate \u001b[38;5;129;01mand\u001b[39;00m \u001b[38;5;28mlen\u001b[39m(\u001b[38;5;28mset\u001b[39m(axis)) \u001b[38;5;241m!=\u001b[39m \u001b[38;5;28mlen\u001b[39m(axis):\n\u001b[1;32m   1382\u001b[0m     \u001b[38;5;28;01mif\u001b[39;00m argname:\n",
      "\u001b[0;31mAxisError\u001b[0m: axis 1 is out of bounds for array of dimension 1"
     ]
    }
   ],
   "source": [
    "# Example usage\n",
    "image1_path = '/ACdata/Users/kevin/ispim_ome_zarr/H17_x55_S32_230412_highres/H17_x55_S32_230412_highres.zarr/highres_Pos39'\n",
    "image2_path = '/ACdata/Users/kevin/ispim_ome_zarr/H17_x55_S32_230412_highres/H17_x55_S32_230412_highres.zarr/highres_Pos40'\n",
    "translation = [-4.405875938358077, -0.7935340408289449, 2.0062904082203716]  # Example translation in x, y dimensions\n",
    "mip_level = 3  # Example MIP level\n",
    "output_tiff_path = 'combined_image_mip3.tiff'\n",
    "combine_with_translation_and_output_tiff(image1_path, image2_path, translation, mip_level, output_tiff_path)\n"
   ]
  },
  {
   "cell_type": "code",
   "execution_count": 14,
   "metadata": {},
   "outputs": [],
   "source": [
    "from acanalysis.utils import get_zarr_params, get_miplvl_dataset, write_tiff_vol_append\n",
    "import pathlib\n",
    "\n",
    "zarrFile = '/ACdata/Users/kevin/ispim_ome_zarr/H17_x55_S32_230412_highres/H17_x55_S32_230412_highres.zarr'\n",
    "tileGroup = 'highres_Pos39'\n",
    "miplvl = 3\n",
    "\n",
    "zpath = pathlib.Path(zarrFile)\n",
    "if zpath.exists():\n",
    "    for tile in tileGroup:\n",
    "        ds = get_miplvl_dataset(zarrFile,tileGroup,miplvl)"
   ]
  },
  {
   "cell_type": "code",
   "execution_count": 16,
   "metadata": {},
   "outputs": [
    {
     "data": {
      "text/plain": [
       "(1, 1, 5392, 72, 72)"
      ]
     },
     "execution_count": 16,
     "metadata": {},
     "output_type": "execute_result"
    }
   ],
   "source": [
    "ds."
   ]
  }
 ],
 "metadata": {
  "kernelspec": {
   "display_name": "AC",
   "language": "python",
   "name": "python3"
  },
  "language_info": {
   "codemirror_mode": {
    "name": "ipython",
    "version": 3
   },
   "file_extension": ".py",
   "mimetype": "text/x-python",
   "name": "python",
   "nbconvert_exporter": "python",
   "pygments_lexer": "ipython3",
   "version": "3.10.0"
  }
 },
 "nbformat": 4,
 "nbformat_minor": 2
}
